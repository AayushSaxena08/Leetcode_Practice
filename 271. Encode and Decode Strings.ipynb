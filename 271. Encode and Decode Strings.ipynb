{
 "cells": [
  {
   "cell_type": "markdown",
   "id": "1f45fb9f",
   "metadata": {},
   "source": [
    "# 271. Encode and Decode Strings\n",
    "\n",
    "Design an algorithm to encode a list of strings to a string. The encoded string is then sent over the network and is decoded back to the original list of strings.\n",
    "\n",
    "Please implement `encode` and `decode`\n",
    "\n",
    "--\n",
    "\n",
    "Solution explained: https://www.youtube.com/watch?v=B1k_sxOSgv8"
   ]
  },
  {
   "cell_type": "code",
   "execution_count": 10,
   "id": "1a0d2c7e",
   "metadata": {},
   "outputs": [],
   "source": [
    "# class to define both function \n",
    "\n",
    "class Solution:\n",
    "    def encode(strs):\n",
    "        res = \"\"\n",
    "        for s in strs:\n",
    "            res += str(len(s)) + \"#\" + s\n",
    "        return res\n",
    "    def decode(str):\n",
    "        res,i = [],0\n",
    "        while i < len(str):\n",
    "            j = i\n",
    "            while str[j] != \"#\":\n",
    "                j += 1\n",
    "            length = int(str[i:j])\n",
    "            res.append(str[j+1:j+1+length])\n",
    "            i = j + 1 + length\n",
    "        return res"
   ]
  },
  {
   "cell_type": "markdown",
   "id": "ca5803d8",
   "metadata": {},
   "source": [
    "##### Test the function with a string "
   ]
  },
  {
   "cell_type": "code",
   "execution_count": 24,
   "id": "afcd9d24",
   "metadata": {},
   "outputs": [],
   "source": [
    "s = \"leet\",\"code\""
   ]
  },
  {
   "cell_type": "code",
   "execution_count": 25,
   "id": "8a4713ae",
   "metadata": {},
   "outputs": [],
   "source": [
    "obj = Solution\n",
    "encoded = obj.encode(s)"
   ]
  },
  {
   "cell_type": "code",
   "execution_count": 26,
   "id": "0c242708",
   "metadata": {},
   "outputs": [
    {
     "data": {
      "text/plain": [
       "'4#leet4#code'"
      ]
     },
     "execution_count": 26,
     "metadata": {},
     "output_type": "execute_result"
    }
   ],
   "source": [
    "encoded"
   ]
  },
  {
   "cell_type": "code",
   "execution_count": 27,
   "id": "faaf77d4",
   "metadata": {},
   "outputs": [],
   "source": [
    "decoded = obj.decode(str=encoded)"
   ]
  },
  {
   "cell_type": "code",
   "execution_count": 28,
   "id": "07e55686",
   "metadata": {},
   "outputs": [
    {
     "data": {
      "text/plain": [
       "['leet', 'code']"
      ]
     },
     "execution_count": 28,
     "metadata": {},
     "output_type": "execute_result"
    }
   ],
   "source": [
    "decoded"
   ]
  }
 ],
 "metadata": {
  "kernelspec": {
   "display_name": "Python 3 (ipykernel)",
   "language": "python",
   "name": "python3"
  },
  "language_info": {
   "codemirror_mode": {
    "name": "ipython",
    "version": 3
   },
   "file_extension": ".py",
   "mimetype": "text/x-python",
   "name": "python",
   "nbconvert_exporter": "python",
   "pygments_lexer": "ipython3",
   "version": "3.9.12"
  }
 },
 "nbformat": 4,
 "nbformat_minor": 5
}
