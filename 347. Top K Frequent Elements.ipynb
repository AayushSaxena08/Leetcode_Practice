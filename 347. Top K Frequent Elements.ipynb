{
 "cells": [
  {
   "cell_type": "markdown",
   "id": "2d90e8f8",
   "metadata": {},
   "source": [
    "### Problem: 347. Top K Frequent Elements\n",
    "\n",
    "Given an integer array `nums` and an integer `k`, return the k most frequent elements. You may return the answer in any order."
   ]
  },
  {
   "cell_type": "code",
   "execution_count": 29,
   "id": "ccaf0ab0",
   "metadata": {},
   "outputs": [],
   "source": [
    "from collections import Counter\n",
    "from typing import List"
   ]
  },
  {
   "cell_type": "code",
   "execution_count": 30,
   "id": "37018c5d",
   "metadata": {},
   "outputs": [],
   "source": [
    "def topKFrequent(nums: List[int], k: int) -> List[int]:\n",
    "    return [number for number,occ in Counter(nums).most_common(k)]"
   ]
  },
  {
   "cell_type": "code",
   "execution_count": 31,
   "id": "c700c63f",
   "metadata": {},
   "outputs": [
    {
     "data": {
      "text/plain": [
       "[1, 2]"
      ]
     },
     "execution_count": 31,
     "metadata": {},
     "output_type": "execute_result"
    }
   ],
   "source": [
    "nums = [1,1,1,2,2,3]\n",
    "k = 2\n",
    "topKFrequent(nums,k)"
   ]
  }
 ],
 "metadata": {
  "kernelspec": {
   "display_name": "Python 3 (ipykernel)",
   "language": "python",
   "name": "python3"
  },
  "language_info": {
   "codemirror_mode": {
    "name": "ipython",
    "version": 3
   },
   "file_extension": ".py",
   "mimetype": "text/x-python",
   "name": "python",
   "nbconvert_exporter": "python",
   "pygments_lexer": "ipython3",
   "version": "3.9.12"
  }
 },
 "nbformat": 4,
 "nbformat_minor": 5
}
