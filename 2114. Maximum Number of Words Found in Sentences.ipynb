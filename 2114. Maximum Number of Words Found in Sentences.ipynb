{
 "cells": [
  {
   "cell_type": "markdown",
   "id": "362803a3",
   "metadata": {},
   "source": [
    "### Problem Statement\n",
    "\n",
    "A sentence is a list of words that are separated by a single space with no leading or trailing spaces.\n",
    "\n",
    "You are given an array of strings **sentences**, where each **sentences[ i ]** represents a single sentence.\n",
    "\n",
    "Return the **maximum number of words** that appear in a single sentence."
   ]
  },
  {
   "cell_type": "code",
   "execution_count": 1,
   "id": "d90abefc",
   "metadata": {},
   "outputs": [],
   "source": [
    "from typing import List"
   ]
  },
  {
   "cell_type": "code",
   "execution_count": 2,
   "id": "a051933e",
   "metadata": {},
   "outputs": [],
   "source": [
    "class Solution:\n",
    "    def mostWordsFOund(self,sentences: List[str]) -> int:\n",
    "        return len(max([words.split() for words in sentences], key=len))"
   ]
  },
  {
   "cell_type": "code",
   "execution_count": 3,
   "id": "98e2959b",
   "metadata": {},
   "outputs": [
    {
     "data": {
      "text/plain": [
       "8"
      ]
     },
     "execution_count": 3,
     "metadata": {},
     "output_type": "execute_result"
    }
   ],
   "source": [
    "sent = ['You are amazing as fuck','I am very happy to start this code','Lets start coding in jupyter notebook','Lets celebrate this wonderful time together']\n",
    "obj = Solution()\n",
    "obj.mostWordsFOund(sent)"
   ]
  },
  {
   "cell_type": "code",
   "execution_count": 4,
   "id": "bd94747e",
   "metadata": {},
   "outputs": [
    {
     "data": {
      "text/plain": [
       "6"
      ]
     },
     "execution_count": 4,
     "metadata": {},
     "output_type": "execute_result"
    }
   ],
   "source": [
    "sen = [\"alice and bob love leetcode\", \"i think so too\", \"this is great thanks very much\"]\n",
    "obj.mostWordsFOund(sen)"
   ]
  }
 ],
 "metadata": {
  "kernelspec": {
   "display_name": "Python 3 (ipykernel)",
   "language": "python",
   "name": "python3"
  },
  "language_info": {
   "codemirror_mode": {
    "name": "ipython",
    "version": 3
   },
   "file_extension": ".py",
   "mimetype": "text/x-python",
   "name": "python",
   "nbconvert_exporter": "python",
   "pygments_lexer": "ipython3",
   "version": "3.9.12"
  }
 },
 "nbformat": 4,
 "nbformat_minor": 5
}
