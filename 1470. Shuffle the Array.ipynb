{
 "cells": [
  {
   "cell_type": "markdown",
   "id": "687dc533",
   "metadata": {},
   "source": [
    "### Problem Statement\n",
    "\n",
    "Input: Given the array nums consisting of **2n elements** in the form **[$x_{1}$,$x_{2}$,...,$x_{n}$,$y_{1}$,$y_{2}$,...,$y_{n}$]**.\n",
    "\n",
    "Output: Return the array in the form **[$x_{1}$,$y_{1}$,$x_{2}$,$y_{2}$,...,$x_{n}$,$y_{n}$]**."
   ]
  },
  {
   "cell_type": "code",
   "execution_count": 1,
   "id": "09b586f2",
   "metadata": {},
   "outputs": [],
   "source": [
    "from typing import List"
   ]
  },
  {
   "cell_type": "code",
   "execution_count": 2,
   "id": "b0ac28aa",
   "metadata": {},
   "outputs": [],
   "source": [
    "class Solution:\n",
    "    def Shuffle(self, nums: List[int], n: List[int]) -> List[int]:\n",
    "        ans=[]\n",
    "        for i in range(len(nums)):\n",
    "            if i + n <= len(nums) - 1:\n",
    "                ans.append(nums[i])\n",
    "                ans.append(nums[i+n])\n",
    "        return ans"
   ]
  },
  {
   "cell_type": "code",
   "execution_count": 4,
   "id": "08759759",
   "metadata": {},
   "outputs": [
    {
     "data": {
      "text/plain": [
       "[2, 3, 5, 4, 1, 7]"
      ]
     },
     "execution_count": 4,
     "metadata": {},
     "output_type": "execute_result"
    }
   ],
   "source": [
    "n=3\n",
    "nums=[2,5,1,3,4,7]\n",
    "obj=Solution()\n",
    "obj.Shuffle(nums,n)"
   ]
  }
 ],
 "metadata": {
  "kernelspec": {
   "display_name": "Python 3 (ipykernel)",
   "language": "python",
   "name": "python3"
  },
  "language_info": {
   "codemirror_mode": {
    "name": "ipython",
    "version": 3
   },
   "file_extension": ".py",
   "mimetype": "text/x-python",
   "name": "python",
   "nbconvert_exporter": "python",
   "pygments_lexer": "ipython3",
   "version": "3.9.12"
  }
 },
 "nbformat": 4,
 "nbformat_minor": 5
}
