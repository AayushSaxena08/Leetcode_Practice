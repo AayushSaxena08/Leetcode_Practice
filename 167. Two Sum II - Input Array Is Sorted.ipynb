{
 "cells": [
  {
   "cell_type": "markdown",
   "id": "a57bbc53",
   "metadata": {},
   "source": [
    "## Problem 167. Two Sum II - Input Array Is Sorted\n",
    "\n",
    "Given a **1-indexed** array of integers `numbers` that is already **sorted in non-decreasing order**, find two numbers such that they add up to a specific `target` number. Let these two numbers be `numbers[index1]` and `numbers[index2]` where `1 <= index1 < index2 <= numbers.length`.\n",
    "\n",
    "Return the *indices of the two numbers*, `index1` and `index2`, **added by one** as an integer array `[index1, index2]` of length 2.\n",
    "\n",
    "The tests are generated such that there is **exactly one solution**. You may not use the same element twice.\n",
    "\n",
    "Your solution must use only constant extra space."
   ]
  },
  {
   "cell_type": "markdown",
   "id": "22f03cbc",
   "metadata": {},
   "source": [
    "**Input**: numbers = [2,7,11,15], target = 9\n",
    "\n",
    "**Output**: `[1,2]`\n",
    "\n",
    "**Explanation**: The sum of 2 and 7 is 9. Therefore, index1 = 1, index2 = 2. We return `[1, 2]`."
   ]
  },
  {
   "cell_type": "code",
   "execution_count": 1,
   "id": "ee401124",
   "metadata": {},
   "outputs": [],
   "source": [
    "from typing import List"
   ]
  },
  {
   "cell_type": "code",
   "execution_count": 8,
   "id": "45fe04ae",
   "metadata": {},
   "outputs": [],
   "source": [
    "def twoSum(numbers: List[int], target: int) -> List[int]:\n",
    "    len_nums = len(numbers)\n",
    "    for i in range(len_nums):\n",
    "        diff = target - numbers[i]\n",
    "        if diff in numbers:\n",
    "            j = numbers.index(diff)\n",
    "            return [i+1,j+1]"
   ]
  },
  {
   "cell_type": "code",
   "execution_count": 9,
   "id": "83f819c2",
   "metadata": {},
   "outputs": [
    {
     "data": {
      "text/plain": [
       "[1, 2]"
      ]
     },
     "execution_count": 9,
     "metadata": {},
     "output_type": "execute_result"
    }
   ],
   "source": [
    "numbers = [2,7,11,15]\n",
    "target = 9\n",
    "twoSum(numbers,target)"
   ]
  },
  {
   "cell_type": "code",
   "execution_count": 10,
   "id": "1d53f3e2",
   "metadata": {},
   "outputs": [
    {
     "data": {
      "text/plain": [
       "[1, 3]"
      ]
     },
     "execution_count": 10,
     "metadata": {},
     "output_type": "execute_result"
    }
   ],
   "source": [
    "numbers = [2,3,4] \n",
    "target = 6\n",
    "twoSum(numbers,target)"
   ]
  }
 ],
 "metadata": {
  "kernelspec": {
   "display_name": "Python 3 (ipykernel)",
   "language": "python",
   "name": "python3"
  },
  "language_info": {
   "codemirror_mode": {
    "name": "ipython",
    "version": 3
   },
   "file_extension": ".py",
   "mimetype": "text/x-python",
   "name": "python",
   "nbconvert_exporter": "python",
   "pygments_lexer": "ipython3",
   "version": "3.9.12"
  }
 },
 "nbformat": 4,
 "nbformat_minor": 5
}
