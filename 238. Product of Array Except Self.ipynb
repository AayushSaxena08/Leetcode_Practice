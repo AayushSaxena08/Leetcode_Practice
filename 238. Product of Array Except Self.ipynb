{
 "cells": [
  {
   "cell_type": "markdown",
   "id": "2f6eb225",
   "metadata": {},
   "source": [
    "### Problem: 238. Product of Array Except Self\n",
    "\n",
    "Given an integer array `nums`, return an `array` answer such that `answer[i]` is equal to the product of all the elements of `nums` except `nums[i]`.\n",
    "\n",
    "The product of any prefix or suffix of `nums` is guaranteed to fit in a 32-bit integer.\n",
    "\n",
    "You must write an algorithm that runs in `O(n)` time and without using the division operation."
   ]
  },
  {
   "cell_type": "code",
   "execution_count": 1,
   "id": "99179128",
   "metadata": {},
   "outputs": [],
   "source": [
    "import math\n",
    "from typing import List\n",
    "\n",
    "def productExceptSelf(nums: List[int]) -> List[int]:\n",
    "    return [int(math.prod(nums)/x) if x != 0 else math.prod(nums[0:i])*math.prod(nums[i+1:]) for i,x in enumerate(nums)]"
   ]
  },
  {
   "cell_type": "code",
   "execution_count": 2,
   "id": "2122daf5",
   "metadata": {},
   "outputs": [
    {
     "data": {
      "text/plain": [
       "[24, 12, 8, 6]"
      ]
     },
     "execution_count": 2,
     "metadata": {},
     "output_type": "execute_result"
    }
   ],
   "source": [
    "nums = [1,2,3,4]\n",
    "productExceptSelf(nums)"
   ]
  }
 ],
 "metadata": {
  "kernelspec": {
   "display_name": "Python 3 (ipykernel)",
   "language": "python",
   "name": "python3"
  },
  "language_info": {
   "codemirror_mode": {
    "name": "ipython",
    "version": 3
   },
   "file_extension": ".py",
   "mimetype": "text/x-python",
   "name": "python",
   "nbconvert_exporter": "python",
   "pygments_lexer": "ipython3",
   "version": "3.9.12"
  }
 },
 "nbformat": 4,
 "nbformat_minor": 5
}
