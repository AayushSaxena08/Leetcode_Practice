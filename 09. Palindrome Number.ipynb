{
 "cells": [
  {
   "cell_type": "markdown",
   "id": "b393ecde",
   "metadata": {},
   "source": [
    "### Problem Statement\n",
    "\n",
    "Given an integer x, return **true** if x is palindrome integer. An integer is a palindrome when it reads the same backward as forward. For example, 121 is a palindrome while 123 is not.\n",
    "\n",
    "Link: https://leetcode.com/problems/palindrome-number/\n",
    "\n",
    "Check all Leetcode solutions: https://github.com/AayushSaxena08/Leetcode_Practice"
   ]
  },
  {
   "cell_type": "code",
   "execution_count": 1,
   "id": "b706f3d4",
   "metadata": {},
   "outputs": [],
   "source": [
    "def isPalindrome(x: int) -> bool:\n",
    "    r = int(str(x)[::-1]) if x>=0 else \" \"\n",
    "    return r == x"
   ]
  },
  {
   "cell_type": "code",
   "execution_count": 2,
   "id": "af1372de",
   "metadata": {},
   "outputs": [
    {
     "data": {
      "text/plain": [
       "True"
      ]
     },
     "execution_count": 2,
     "metadata": {},
     "output_type": "execute_result"
    }
   ],
   "source": [
    "isPalindrome(1234321)"
   ]
  },
  {
   "cell_type": "code",
   "execution_count": 3,
   "id": "0d62aed7",
   "metadata": {},
   "outputs": [
    {
     "data": {
      "text/plain": [
       "False"
      ]
     },
     "execution_count": 3,
     "metadata": {},
     "output_type": "execute_result"
    }
   ],
   "source": [
    "isPalindrome(12324)"
   ]
  }
 ],
 "metadata": {
  "kernelspec": {
   "display_name": "Python 3 (ipykernel)",
   "language": "python",
   "name": "python3"
  },
  "language_info": {
   "codemirror_mode": {
    "name": "ipython",
    "version": 3
   },
   "file_extension": ".py",
   "mimetype": "text/x-python",
   "name": "python",
   "nbconvert_exporter": "python",
   "pygments_lexer": "ipython3",
   "version": "3.9.12"
  }
 },
 "nbformat": 4,
 "nbformat_minor": 5
}
