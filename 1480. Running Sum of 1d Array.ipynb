{
 "cells": [
  {
   "cell_type": "markdown",
   "id": "db9b1498",
   "metadata": {},
   "source": [
    "### Problem Statement\n",
    "\n",
    "Given an array nums. We define a running sum of an array as **runningSum[ i ] = sum(nums[ 0 ]…nums[ i ])**.\n",
    "\n",
    "Return the running sum of **nums**."
   ]
  },
  {
   "cell_type": "code",
   "execution_count": 1,
   "id": "c49cf235",
   "metadata": {},
   "outputs": [],
   "source": [
    "from typing import List"
   ]
  },
  {
   "cell_type": "code",
   "execution_count": 2,
   "id": "d53824e8",
   "metadata": {},
   "outputs": [],
   "source": [
    "class Solution:\n",
    "    def runningSum(self, nums: List[int]) -> List[int]:\n",
    "        for i in range(1, len(nums)):nums[i] += nums[i - 1]\n",
    "        return nums"
   ]
  },
  {
   "cell_type": "code",
   "execution_count": 3,
   "id": "a56a842d",
   "metadata": {},
   "outputs": [
    {
     "data": {
      "text/plain": [
       "[1, 3, 6, 10]"
      ]
     },
     "execution_count": 3,
     "metadata": {},
     "output_type": "execute_result"
    }
   ],
   "source": [
    "obj = Solution()\n",
    "nums = [1,2,3,4]\n",
    "obj.runningSum(nums)"
   ]
  }
 ],
 "metadata": {
  "kernelspec": {
   "display_name": "Python 3 (ipykernel)",
   "language": "python",
   "name": "python3"
  },
  "language_info": {
   "codemirror_mode": {
    "name": "ipython",
    "version": 3
   },
   "file_extension": ".py",
   "mimetype": "text/x-python",
   "name": "python",
   "nbconvert_exporter": "python",
   "pygments_lexer": "ipython3",
   "version": "3.9.12"
  }
 },
 "nbformat": 4,
 "nbformat_minor": 5
}
