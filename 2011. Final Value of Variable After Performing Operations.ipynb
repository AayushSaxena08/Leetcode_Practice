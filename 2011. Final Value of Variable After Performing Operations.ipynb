{
 "cells": [
  {
   "cell_type": "markdown",
   "id": "d1e35536",
   "metadata": {},
   "source": [
    "### Problem statement\n",
    "\n",
    "There is a programming language with only four operations and one variable X:\n",
    "\n",
    "- ++X and X++ increments the value of the variable X by 1.\n",
    "- --X and X-- decrements the value of the variable X by 1.\n",
    "\n",
    "Initially, the value of X is 0.\n",
    "\n",
    "Given an array of strings operations containing a list of operations, return the final value of X after performing all the operations."
   ]
  },
  {
   "cell_type": "code",
   "execution_count": 1,
   "id": "f2f9b595",
   "metadata": {},
   "outputs": [],
   "source": [
    "from typing import List"
   ]
  },
  {
   "cell_type": "code",
   "execution_count": 2,
   "id": "495f8a16",
   "metadata": {},
   "outputs": [],
   "source": [
    "class Solution:\n",
    "    def finalValueAfterOperations(self, operations: List[str]) -> int:\n",
    "        return sum(map(lambda x: 1 if '++' in x else -1, operations))"
   ]
  },
  {
   "cell_type": "code",
   "execution_count": 3,
   "id": "0afa3e84",
   "metadata": {},
   "outputs": [
    {
     "data": {
      "text/plain": [
       "3"
      ]
     },
     "execution_count": 3,
     "metadata": {},
     "output_type": "execute_result"
    }
   ],
   "source": [
    "obj = Solution()\n",
    "op = [\"++X\",\"++X\",\"X++\"]\n",
    "obj.finalValueAfterOperations(op)"
   ]
  },
  {
   "cell_type": "markdown",
   "id": "56800f78",
   "metadata": {},
   "source": [
    "The operations are performed as follows:\n",
    "\n",
    "Initially, X = 0.\n",
    "- ++X: X is incremented by 1, X = 0 + 1 = 1.\n",
    "- ++X: X is incremented by 1, X = 1 + 1 = 2.\n",
    "- X++: X is incremented by 1, X = 2 + 1 = 3."
   ]
  }
 ],
 "metadata": {
  "kernelspec": {
   "display_name": "Python 3 (ipykernel)",
   "language": "python",
   "name": "python3"
  },
  "language_info": {
   "codemirror_mode": {
    "name": "ipython",
    "version": 3
   },
   "file_extension": ".py",
   "mimetype": "text/x-python",
   "name": "python",
   "nbconvert_exporter": "python",
   "pygments_lexer": "ipython3",
   "version": "3.9.12"
  }
 },
 "nbformat": 4,
 "nbformat_minor": 5
}
