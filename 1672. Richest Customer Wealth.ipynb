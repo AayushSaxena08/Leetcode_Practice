{
 "cells": [
  {
   "cell_type": "markdown",
   "id": "9ddb8d0d",
   "metadata": {},
   "source": [
    "### Problem Statement\n",
    "\n",
    "You are given an **m x n** integer grid accounts where **accounts[ i ][ j ]** is the amount of money the $i^{th}$ customer has in the $j^{th}$ bank. Return the wealth that the richest customer has.\n",
    "\n",
    "A customer's wealth is the amount of money they have in all their bank accounts. The richest customer is the customer that has the maximum wealth."
   ]
  },
  {
   "cell_type": "code",
   "execution_count": 1,
   "id": "259ddf66",
   "metadata": {},
   "outputs": [],
   "source": [
    "from typing import List"
   ]
  },
  {
   "cell_type": "code",
   "execution_count": 2,
   "id": "e4278488",
   "metadata": {},
   "outputs": [],
   "source": [
    "class Solution:\n",
    "    def maximumWealth(self, accounts: List[List[int]]) -> int:\n",
    "        return max(sum(account) for account in accounts)"
   ]
  },
  {
   "cell_type": "code",
   "execution_count": 3,
   "id": "71fed026",
   "metadata": {},
   "outputs": [
    {
     "data": {
      "text/plain": [
       "10"
      ]
     },
     "execution_count": 3,
     "metadata": {},
     "output_type": "execute_result"
    }
   ],
   "source": [
    "obj = Solution()\n",
    "account = [[1,5],[7,3],[3,5]]\n",
    "\n",
    "obj.maximumWealth(account)"
   ]
  },
  {
   "cell_type": "markdown",
   "id": "cab3103f",
   "metadata": {},
   "source": [
    "**Explaination**\n",
    "\n",
    "- 1st customer has wealth = 6\n",
    "- 2nd customer has wealth = 10 \n",
    "- 3rd customer has wealth = 8\n",
    "\n",
    "The 2nd customer is the richest with a wealth of 10."
   ]
  }
 ],
 "metadata": {
  "kernelspec": {
   "display_name": "Python 3 (ipykernel)",
   "language": "python",
   "name": "python3"
  },
  "language_info": {
   "codemirror_mode": {
    "name": "ipython",
    "version": 3
   },
   "file_extension": ".py",
   "mimetype": "text/x-python",
   "name": "python",
   "nbconvert_exporter": "python",
   "pygments_lexer": "ipython3",
   "version": "3.9.12"
  }
 },
 "nbformat": 4,
 "nbformat_minor": 5
}
