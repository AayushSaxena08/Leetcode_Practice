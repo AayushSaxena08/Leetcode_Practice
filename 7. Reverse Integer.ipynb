{
 "cells": [
  {
   "cell_type": "markdown",
   "id": "eb1e4371",
   "metadata": {},
   "source": [
    "### Problem Statement\n",
    "\n",
    "Given a signed 32-bit integer x, return x with its digits reversed. If reversing x causes the value to go outside the signed 32-bit integer range [$-2^{31}, 2^{31} - 1$], then return 0.\n",
    "\n",
    "Link: https://leetcode.com/problems/reverse-integer/\n",
    "\n",
    "Check all Leetcode solutions: https://github.com/AayushSaxena08/Leetcode_Practice"
   ]
  },
  {
   "cell_type": "code",
   "execution_count": 4,
   "id": "e7a86b5a",
   "metadata": {},
   "outputs": [],
   "source": [
    "def reverse(x: int) -> int:\n",
    "    s = str(x)\n",
    "    # removing zeros at the end of the string:\n",
    "    s = s.strip('0')\n",
    "        \n",
    "    # reversing the string\n",
    "    if x < 0:\n",
    "        s = s[:0:-1]\n",
    "        s = '-' + s\n",
    "    elif x > 0:\n",
    "        s = s[::-1]\n",
    "    else:\n",
    "        return 0\n",
    "\n",
    "    # checking the boundries:\n",
    "    if  int(s) > 2**31 - 1 or int(s) < -2**31:\n",
    "        return 0\n",
    "    return s"
   ]
  },
  {
   "cell_type": "code",
   "execution_count": 5,
   "id": "86eae6f9",
   "metadata": {},
   "outputs": [
    {
     "data": {
      "text/plain": [
       "'21'"
      ]
     },
     "execution_count": 5,
     "metadata": {},
     "output_type": "execute_result"
    }
   ],
   "source": [
    "reverse(1200)"
   ]
  }
 ],
 "metadata": {
  "kernelspec": {
   "display_name": "Python 3 (ipykernel)",
   "language": "python",
   "name": "python3"
  },
  "language_info": {
   "codemirror_mode": {
    "name": "ipython",
    "version": 3
   },
   "file_extension": ".py",
   "mimetype": "text/x-python",
   "name": "python",
   "nbconvert_exporter": "python",
   "pygments_lexer": "ipython3",
   "version": "3.9.12"
  }
 },
 "nbformat": 4,
 "nbformat_minor": 5
}
