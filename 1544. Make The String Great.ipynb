{
 "cells": [
  {
   "cell_type": "markdown",
   "id": "09740a74",
   "metadata": {},
   "source": [
    "### 1544. Make The String Great\n",
    "\n",
    "Given a string `s` of lower and upper case English letters.\n",
    "\n",
    "A good string is a string which doesn't have two adjacent characters `s[i]` and `s[i + 1]` where:\n",
    "\n",
    "- `0 <= i <= s.length - 2`\n",
    "- `s[i]` is a lower-case letter and `s[i + 1]` is the same letter but in upper-case or vice-versa.\n",
    "\n",
    "To make the string good, you can choose **two adjacent** characters that make the string bad and remove them. You can keep doing this until the string becomes good.\n",
    "\n",
    "Return the string after making it good. The answer is guaranteed to be unique under the given constraints.\n",
    "\n",
    "**Notice** that an empty string is also good."
   ]
  },
  {
   "cell_type": "markdown",
   "id": "e8800075",
   "metadata": {},
   "source": [
    "**Input**: s = \"leEeetcode\"\n",
    "    \n",
    "**Output**: \"leetcode\""
   ]
  },
  {
   "cell_type": "code",
   "execution_count": 5,
   "id": "41dc1a3c",
   "metadata": {},
   "outputs": [],
   "source": [
    "# Method 1 - Using stack\n",
    "# Time complexity is O(n)\n",
    "class Solution:\n",
    "    def makeGood(s: str) -> str:\n",
    "\n",
    "        stack = []\n",
    "        for char in s:\n",
    "            if not stack:\n",
    "                stack.append(char)\n",
    "\n",
    "            else:\n",
    "                top = stack[-1]\n",
    "                if char != top and (char.upper() == top or char == top.upper()):\n",
    "                    stack.pop(-1)\n",
    "                else:\n",
    "                    stack.append(char)\n",
    "\n",
    "        return ''.join(stack)"
   ]
  },
  {
   "cell_type": "code",
   "execution_count": 6,
   "id": "d20026b8",
   "metadata": {},
   "outputs": [],
   "source": [
    "# Using string and calculating the difference between the ASCII value of the letters \n",
    "# Time complexity is O(1)\n",
    "class Solution2:\n",
    "    def makeGood(s: str) -> str:\n",
    "        word = []\n",
    "        diff = ord(\"a\") - ord(\"A\")\n",
    "        for c in s:\n",
    "            if not word:\n",
    "                word.append(c)\n",
    "            else:\n",
    "                if abs(ord(word[-1]) - ord(c)) == diff:\n",
    "                    word.pop()\n",
    "                else:\n",
    "                    word.append(c)\n",
    "        return \"\".join(word)"
   ]
  },
  {
   "cell_type": "code",
   "execution_count": 7,
   "id": "ea073b99",
   "metadata": {},
   "outputs": [
    {
     "data": {
      "text/plain": [
       "'leetcode'"
      ]
     },
     "execution_count": 7,
     "metadata": {},
     "output_type": "execute_result"
    }
   ],
   "source": [
    "s = \"leEeetcode\"\n",
    "obj = Solution\n",
    "obj.makeGood(s)"
   ]
  },
  {
   "cell_type": "code",
   "execution_count": 8,
   "id": "b3c99463",
   "metadata": {},
   "outputs": [
    {
     "data": {
      "text/plain": [
       "'leetcode'"
      ]
     },
     "execution_count": 8,
     "metadata": {},
     "output_type": "execute_result"
    }
   ],
   "source": [
    "s = \"leEeetcode\"\n",
    "obj1 = Solution2\n",
    "obj1.makeGood(s)"
   ]
  },
  {
   "cell_type": "code",
   "execution_count": null,
   "id": "11edc0b0",
   "metadata": {},
   "outputs": [],
   "source": []
  }
 ],
 "metadata": {
  "kernelspec": {
   "display_name": "Python 3 (ipykernel)",
   "language": "python",
   "name": "python3"
  },
  "language_info": {
   "codemirror_mode": {
    "name": "ipython",
    "version": 3
   },
   "file_extension": ".py",
   "mimetype": "text/x-python",
   "name": "python",
   "nbconvert_exporter": "python",
   "pygments_lexer": "ipython3",
   "version": "3.9.12"
  }
 },
 "nbformat": 4,
 "nbformat_minor": 5
}
