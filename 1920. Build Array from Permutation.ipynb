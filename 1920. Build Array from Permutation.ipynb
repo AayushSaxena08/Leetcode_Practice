{
 "cells": [
  {
   "cell_type": "markdown",
   "id": "0e25f37d",
   "metadata": {},
   "source": [
    "### Problem Statement\n",
    "Given a zero-based permutation nums (0-indexed), build an array ans of the same length where **ans[ i ] = nums[nums[ i ]]** for each 0 <= i < nums.length and return it.\n",
    "\n",
    "A zero-based permutation nums is an array of distinct integers from 0 to nums.length - 1 (inclusive)."
   ]
  },
  {
   "cell_type": "code",
   "execution_count": 5,
   "id": "82239a6e",
   "metadata": {},
   "outputs": [],
   "source": [
    "from typing import List"
   ]
  },
  {
   "cell_type": "code",
   "execution_count": 6,
   "id": "e9cb6905",
   "metadata": {},
   "outputs": [],
   "source": [
    "class Solution:\n",
    "    def buildArray(self, nums: List[int]) -> List[int]:\n",
    "        return [nums[num] for num in nums]"
   ]
  },
  {
   "cell_type": "code",
   "execution_count": 7,
   "id": "6abca694",
   "metadata": {},
   "outputs": [],
   "source": [
    "obj = Solution()"
   ]
  },
  {
   "cell_type": "code",
   "execution_count": 8,
   "id": "62798f28",
   "metadata": {},
   "outputs": [
    {
     "data": {
      "text/plain": [
       "[0, 1, 2, 4, 5, 3]"
      ]
     },
     "execution_count": 8,
     "metadata": {},
     "output_type": "execute_result"
    }
   ],
   "source": [
    "nums = [0,2,1,5,3,4]\n",
    "obj.buildArray(nums)"
   ]
  },
  {
   "cell_type": "code",
   "execution_count": 9,
   "id": "2f44c7f6",
   "metadata": {},
   "outputs": [
    {
     "data": {
      "text/plain": [
       "[4, 5, 0, 1, 2, 3]"
      ]
     },
     "execution_count": 9,
     "metadata": {},
     "output_type": "execute_result"
    }
   ],
   "source": [
    "nums2 = [5,0,1,2,3,4]\n",
    "obj.buildArray(nums2)"
   ]
  },
  {
   "cell_type": "code",
   "execution_count": null,
   "id": "5b1d476d",
   "metadata": {},
   "outputs": [],
   "source": []
  }
 ],
 "metadata": {
  "kernelspec": {
   "display_name": "Python 3 (ipykernel)",
   "language": "python",
   "name": "python3"
  },
  "language_info": {
   "codemirror_mode": {
    "name": "ipython",
    "version": 3
   },
   "file_extension": ".py",
   "mimetype": "text/x-python",
   "name": "python",
   "nbconvert_exporter": "python",
   "pygments_lexer": "ipython3",
   "version": "3.9.12"
  }
 },
 "nbformat": 4,
 "nbformat_minor": 5
}
