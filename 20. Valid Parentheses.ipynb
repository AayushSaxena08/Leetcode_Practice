{
 "cells": [
  {
   "cell_type": "markdown",
   "id": "3ebd4f7e",
   "metadata": {},
   "source": [
    "## Problem 20. Valid Parentheses\n",
    "\n",
    "Given a string s containing just the characters `'('` , `')'` , `'{'` , `'}'` , `'['` and `']'`, determine if the input string is valid.\n",
    "\n",
    "An input string is valid if:\n",
    "\n",
    "- Open brackets must be closed by the same type of brackets.\n",
    "- Open brackets must be closed in the correct order.\n",
    "- Every close bracket has a corresponding open bracket of the same type."
   ]
  },
  {
   "cell_type": "code",
   "execution_count": 1,
   "id": "885ccfc9",
   "metadata": {},
   "outputs": [],
   "source": [
    "def isValid(s: str) -> bool:\n",
    "    stack=[]\n",
    "    for c in s:\n",
    "        if ((c =='(') or (c == '[') or (c =='{')):\n",
    "            stack.append(c)\n",
    "        elif(not stack):\n",
    "            return False\n",
    "        else:\n",
    "            lastParantheses = stack.pop()\n",
    "            if (((c == \")\") and (lastParantheses != \"(\")) or \n",
    "                ((c == \"]\") and (lastParantheses != \"[\")) or\n",
    "                ((c == \"}\") and (lastParantheses != \"{\"))):\n",
    "                return False\n",
    "    return len(stack) == 0"
   ]
  },
  {
   "cell_type": "code",
   "execution_count": 2,
   "id": "6815d0fc",
   "metadata": {},
   "outputs": [
    {
     "data": {
      "text/plain": [
       "True"
      ]
     },
     "execution_count": 2,
     "metadata": {},
     "output_type": "execute_result"
    }
   ],
   "source": [
    "s = \"()\"\n",
    "isValid(s)"
   ]
  },
  {
   "cell_type": "code",
   "execution_count": 3,
   "id": "b89aec78",
   "metadata": {},
   "outputs": [
    {
     "data": {
      "text/plain": [
       "False"
      ]
     },
     "execution_count": 3,
     "metadata": {},
     "output_type": "execute_result"
    }
   ],
   "source": [
    "s = \"(]\"\n",
    "isValid(s)"
   ]
  }
 ],
 "metadata": {
  "kernelspec": {
   "display_name": "Python 3 (ipykernel)",
   "language": "python",
   "name": "python3"
  },
  "language_info": {
   "codemirror_mode": {
    "name": "ipython",
    "version": 3
   },
   "file_extension": ".py",
   "mimetype": "text/x-python",
   "name": "python",
   "nbconvert_exporter": "python",
   "pygments_lexer": "ipython3",
   "version": "3.9.12"
  }
 },
 "nbformat": 4,
 "nbformat_minor": 5
}
