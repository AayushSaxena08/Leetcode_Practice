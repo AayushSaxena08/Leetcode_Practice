{
 "cells": [
  {
   "cell_type": "markdown",
   "id": "71f35a19",
   "metadata": {},
   "source": [
    "### Problem Statement\n",
    "\n",
    "Given an array of integers **nums**, return the number of good pairs.\n",
    "\n",
    "A pair (i, j) is called **good** if **nums[ i ] == nums[ j ]** and **i < j**."
   ]
  },
  {
   "cell_type": "code",
   "execution_count": 1,
   "id": "40eddd8d",
   "metadata": {},
   "outputs": [],
   "source": [
    "from typing import List"
   ]
  },
  {
   "cell_type": "code",
   "execution_count": 2,
   "id": "0a0275ed",
   "metadata": {},
   "outputs": [],
   "source": [
    "class Solution:\n",
    "    def numIdenticalPairs(self, nums: List[int]) -> int:\n",
    "        if len(nums) == 1:\n",
    "            return 0\n",
    "        else:\n",
    "            c=0\n",
    "            for i in range(len(nums)-1):\n",
    "                for j in range(i+1,len(nums)):\n",
    "                    if nums[i]==nums[j]:\n",
    "                        c+=1\n",
    "            return c"
   ]
  },
  {
   "cell_type": "code",
   "execution_count": 3,
   "id": "427b5a91",
   "metadata": {},
   "outputs": [
    {
     "data": {
      "text/plain": [
       "6"
      ]
     },
     "execution_count": 3,
     "metadata": {},
     "output_type": "execute_result"
    }
   ],
   "source": [
    "nums = [1,1,1,1]\n",
    "obj = Solution()\n",
    "obj.numIdenticalPairs(nums)"
   ]
  }
 ],
 "metadata": {
  "kernelspec": {
   "display_name": "Python 3 (ipykernel)",
   "language": "python",
   "name": "python3"
  },
  "language_info": {
   "codemirror_mode": {
    "name": "ipython",
    "version": 3
   },
   "file_extension": ".py",
   "mimetype": "text/x-python",
   "name": "python",
   "nbconvert_exporter": "python",
   "pygments_lexer": "ipython3",
   "version": "3.9.12"
  }
 },
 "nbformat": 4,
 "nbformat_minor": 5
}
