{
 "cells": [
  {
   "cell_type": "markdown",
   "id": "7ddb8e08",
   "metadata": {},
   "source": [
    "### Problem Statement\n",
    "\n",
    "Given the array **nums**, for each **nums[ i ]** find out how many numbers in the array are smaller than it. That is, for each nums[ i ] you have to **count** the number of valid j's such that **j != i** and **nums[ j ] < nums[ i ]**.\n",
    "\n",
    "Return the answer in an array."
   ]
  },
  {
   "cell_type": "code",
   "execution_count": 1,
   "id": "4d2a23be",
   "metadata": {},
   "outputs": [],
   "source": [
    "from typing import List"
   ]
  },
  {
   "cell_type": "code",
   "execution_count": 2,
   "id": "85d8a790",
   "metadata": {},
   "outputs": [],
   "source": [
    "class Solution:\n",
    "    def smallerNumbersThanCurrent(self, nums: List[int]) -> List[int]:\n",
    "        ans = []\n",
    "        for num in nums:\n",
    "            count = 0\n",
    "            for i in range(len(nums)):\n",
    "                if num > nums[i]:\n",
    "                    count += 1\n",
    "            ans.append(count)\n",
    "        return ans    "
   ]
  },
  {
   "cell_type": "code",
   "execution_count": 3,
   "id": "4c4d48e9",
   "metadata": {},
   "outputs": [
    {
     "data": {
      "text/plain": [
       "[4, 0, 1, 1, 3]"
      ]
     },
     "execution_count": 3,
     "metadata": {},
     "output_type": "execute_result"
    }
   ],
   "source": [
    "obj = Solution()\n",
    "obj.smallerNumbersThanCurrent(nums=[8,1,2,2,3])"
   ]
  },
  {
   "cell_type": "code",
   "execution_count": null,
   "id": "9cc54d92",
   "metadata": {},
   "outputs": [],
   "source": []
  }
 ],
 "metadata": {
  "kernelspec": {
   "display_name": "Python 3 (ipykernel)",
   "language": "python",
   "name": "python3"
  },
  "language_info": {
   "codemirror_mode": {
    "name": "ipython",
    "version": 3
   },
   "file_extension": ".py",
   "mimetype": "text/x-python",
   "name": "python",
   "nbconvert_exporter": "python",
   "pygments_lexer": "ipython3",
   "version": "3.9.12"
  }
 },
 "nbformat": 4,
 "nbformat_minor": 5
}
