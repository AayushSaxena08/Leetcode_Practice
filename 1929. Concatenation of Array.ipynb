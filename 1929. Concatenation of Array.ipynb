{
 "cells": [
  {
   "cell_type": "markdown",
   "id": "16bf86f6",
   "metadata": {},
   "source": [
    "### Problem Statement\n",
    "\n",
    "Given an integer array nums of length n, you want to create an array ans of length 2n where **ans[ i ] == nums[ i ] and ans[ i + n ] == nums[ i ]** for 0 <= i < n (0-indexed).\n",
    "\n",
    "Specifically, **ans** is the concatenation of two nums arrays.\n",
    "\n",
    "Return the array **ans**."
   ]
  },
  {
   "cell_type": "code",
   "execution_count": 1,
   "id": "47f488ec",
   "metadata": {},
   "outputs": [],
   "source": [
    "from typing import List"
   ]
  },
  {
   "cell_type": "code",
   "execution_count": 2,
   "id": "a030d2f5",
   "metadata": {},
   "outputs": [],
   "source": [
    "class Solution:\n",
    "    def getConcatenation(self, nums: List[int]) -> List[int]:\n",
    "        return 2*nums"
   ]
  },
  {
   "cell_type": "code",
   "execution_count": 3,
   "id": "ae09e6c8",
   "metadata": {},
   "outputs": [],
   "source": [
    "obj = Solution()"
   ]
  },
  {
   "cell_type": "code",
   "execution_count": 4,
   "id": "0ccdb5c8",
   "metadata": {},
   "outputs": [
    {
     "data": {
      "text/plain": [
       "[1, 2, 3, 1, 2, 3]"
      ]
     },
     "execution_count": 4,
     "metadata": {},
     "output_type": "execute_result"
    }
   ],
   "source": [
    "nums=[1,2,3]\n",
    "obj.getConcatenation(nums)"
   ]
  }
 ],
 "metadata": {
  "kernelspec": {
   "display_name": "Python 3 (ipykernel)",
   "language": "python",
   "name": "python3"
  },
  "language_info": {
   "codemirror_mode": {
    "name": "ipython",
    "version": 3
   },
   "file_extension": ".py",
   "mimetype": "text/x-python",
   "name": "python",
   "nbconvert_exporter": "python",
   "pygments_lexer": "ipython3",
   "version": "3.9.12"
  }
 },
 "nbformat": 4,
 "nbformat_minor": 5
}
