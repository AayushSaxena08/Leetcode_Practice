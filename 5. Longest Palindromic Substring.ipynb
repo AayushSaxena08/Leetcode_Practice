{
 "cells": [
  {
   "cell_type": "markdown",
   "id": "baeaee21",
   "metadata": {},
   "source": [
    "### Problem statement\n",
    "\n",
    "Given a string s, return the longest palindromic substring in s.\n",
    "\n",
    "Link: https://leetcode.com/problems/longest-palindromic-substring"
   ]
  },
  {
   "cell_type": "code",
   "execution_count": 1,
   "id": "507fc11c",
   "metadata": {},
   "outputs": [],
   "source": [
    "def longestPalindrome(s: str) -> str:\n",
    "\n",
    "    res=\"\"\n",
    "    res_len=0\n",
    "    for i in range(len(s)):\n",
    "        \n",
    "        # odd length\n",
    "        l, r = i, i\n",
    "        while l >= 0 and r < len(s) and s[l] == s[r]:\n",
    "            if (r - l + 1) > res_len:\n",
    "                res = s[l:r+1]\n",
    "                res_len = r - l + 1\n",
    "            l -=1\n",
    "            r +=1\n",
    "            \n",
    "        # even length\n",
    "        l, r = i, i + 1\n",
    "        while l >= 0 and r < len(s) and s[l] == s[r]:\n",
    "            if (r - l + 1) > res_len:\n",
    "                res=s[l:r+1]\n",
    "                res_len = r - l + 1\n",
    "            l -= 1\n",
    "            r += 1\n",
    "    return res"
   ]
  },
  {
   "cell_type": "code",
   "execution_count": 3,
   "id": "d94bf604",
   "metadata": {},
   "outputs": [
    {
     "data": {
      "text/plain": [
       "'a'"
      ]
     },
     "execution_count": 3,
     "metadata": {},
     "output_type": "execute_result"
    }
   ],
   "source": [
    "s=\"abcabcde\"\n",
    "longestPalindrome(s)"
   ]
  },
  {
   "cell_type": "code",
   "execution_count": null,
   "id": "272e29ff",
   "metadata": {},
   "outputs": [],
   "source": []
  }
 ],
 "metadata": {
  "kernelspec": {
   "display_name": "Python 3 (ipykernel)",
   "language": "python",
   "name": "python3"
  },
  "language_info": {
   "codemirror_mode": {
    "name": "ipython",
    "version": 3
   },
   "file_extension": ".py",
   "mimetype": "text/x-python",
   "name": "python",
   "nbconvert_exporter": "python",
   "pygments_lexer": "ipython3",
   "version": "3.9.12"
  }
 },
 "nbformat": 4,
 "nbformat_minor": 5
}
