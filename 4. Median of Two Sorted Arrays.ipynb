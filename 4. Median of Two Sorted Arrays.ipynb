{
 "cells": [
  {
   "cell_type": "markdown",
   "id": "0849174a",
   "metadata": {},
   "source": [
    "### Problem Statement\n",
    "\n",
    "Given two sorted arrays nums1 and nums2 of size m and n respectively, return the median of the two sorted arrays.\n",
    "\n",
    "- The overall run time complexity should be **O(log (m+n))**\n",
    "\n",
    "Link: https://leetcode.com/problems/median-of-two-sorted-arrays/"
   ]
  },
  {
   "cell_type": "code",
   "execution_count": 2,
   "id": "6964e6b6",
   "metadata": {},
   "outputs": [],
   "source": [
    "from typing import List"
   ]
  },
  {
   "cell_type": "code",
   "execution_count": 3,
   "id": "849f3cb2",
   "metadata": {},
   "outputs": [],
   "source": [
    "# Try with taking an example \n",
    "def findMedianSortedArrays(nums1: List[int], nums2: List[int]) -> float:\n",
    "        i = j = term1 = term2 = cnt = 0\n",
    "        n1, n2 = len(nums1), len(nums2)\n",
    "        n = n1 + n2\n",
    "        while i < n1 or j < n2:\n",
    "            term1 = term2\n",
    "            if i < n1 and j < n2:\n",
    "                if nums1[i] < nums2[j]:\n",
    "                    term2 = nums1[i]\n",
    "                    i += 1\n",
    "                else:\n",
    "                    term2 = nums2[j]\n",
    "                    j += 1\n",
    "            elif i < n1:\n",
    "                term2 = nums1[i]\n",
    "                i += 1\n",
    "            elif j < n2:\n",
    "                term2 = nums2[j]\n",
    "                j += 1\n",
    "                \n",
    "            if cnt == n // 2:\n",
    "                break\n",
    "            cnt += 1\n",
    "                \n",
    "        if n % 2 == 0:\n",
    "            return (term1 + term2) / 2\n",
    "        \n",
    "        return term2"
   ]
  },
  {
   "cell_type": "code",
   "execution_count": 4,
   "id": "eb8659dd",
   "metadata": {},
   "outputs": [
    {
     "data": {
      "text/plain": [
       "2.5"
      ]
     },
     "execution_count": 4,
     "metadata": {},
     "output_type": "execute_result"
    }
   ],
   "source": [
    "nums1 = [1,2]\n",
    "nums2 = [3,4]\n",
    "findMedianSortedArrays(nums1,nums2)"
   ]
  }
 ],
 "metadata": {
  "kernelspec": {
   "display_name": "Python 3 (ipykernel)",
   "language": "python",
   "name": "python3"
  },
  "language_info": {
   "codemirror_mode": {
    "name": "ipython",
    "version": 3
   },
   "file_extension": ".py",
   "mimetype": "text/x-python",
   "name": "python",
   "nbconvert_exporter": "python",
   "pygments_lexer": "ipython3",
   "version": "3.9.12"
  }
 },
 "nbformat": 4,
 "nbformat_minor": 5
}
