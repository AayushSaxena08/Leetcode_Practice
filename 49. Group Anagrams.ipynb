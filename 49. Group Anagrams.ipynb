{
 "cells": [
  {
   "cell_type": "markdown",
   "id": "09e8eb1f",
   "metadata": {},
   "source": [
    "### Problem 49: Group Anagrams\n",
    "\n",
    "Given an array of strings strs, group the anagrams together. You can return the answer in any order.\n",
    "\n",
    "An Anagram is a word or phrase formed by rearranging the letters of a different word or phrase, typically using all the original letters exactly once."
   ]
  },
  {
   "cell_type": "code",
   "execution_count": 2,
   "id": "d1b20d4b",
   "metadata": {},
   "outputs": [],
   "source": [
    "from typing import List"
   ]
  },
  {
   "cell_type": "code",
   "execution_count": 3,
   "id": "d520ca25",
   "metadata": {},
   "outputs": [],
   "source": [
    "def groupAnagrams(strs: List[str]) -> List[List[str]]:\n",
    "    d= {}\n",
    "    for word in strs:\n",
    "        key = tuple(sorted(word))\n",
    "        d[key] = d.get(key,[]) + [word]\n",
    "    return d.values()"
   ]
  },
  {
   "cell_type": "code",
   "execution_count": 4,
   "id": "b0f864cb",
   "metadata": {},
   "outputs": [
    {
     "data": {
      "text/plain": [
       "dict_values([['eat', 'tea', 'ate'], ['tan', 'nat'], ['bat']])"
      ]
     },
     "execution_count": 4,
     "metadata": {},
     "output_type": "execute_result"
    }
   ],
   "source": [
    "strs = [\"eat\",\"tea\",\"tan\",\"ate\",\"nat\",\"bat\"]\n",
    "groupAnagrams(strs)"
   ]
  }
 ],
 "metadata": {
  "kernelspec": {
   "display_name": "Python 3 (ipykernel)",
   "language": "python",
   "name": "python3"
  },
  "language_info": {
   "codemirror_mode": {
    "name": "ipython",
    "version": 3
   },
   "file_extension": ".py",
   "mimetype": "text/x-python",
   "name": "python",
   "nbconvert_exporter": "python",
   "pygments_lexer": "ipython3",
   "version": "3.9.12"
  }
 },
 "nbformat": 4,
 "nbformat_minor": 5
}
