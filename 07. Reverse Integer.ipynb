{
 "cells": [
  {
   "cell_type": "markdown",
   "id": "3faae4e0",
   "metadata": {},
   "source": [
    "### Problem Statement\n",
    "Given a signed 32-bit integer x, return x with its digits reversed. If reversing x causes the value to go outside the signed 32-bit integer range [$-2^{31}, 2^{31} - 1$], then return 0.\n",
    "\n",
    "\\[ \\]\n",
    "\n",
    "$x^{2}$"
   ]
  },
  {
   "cell_type": "code",
   "execution_count": null,
   "id": "d0f1f6ed",
   "metadata": {},
   "outputs": [],
   "source": [
    "class Solution:\n",
    "    def reverse(self, x: int) -> int:\n",
    "        s = str(x)\n",
    "        # removing zeros at the end of the string:\n",
    "        s = s.strip('0')\n",
    "        \n",
    "        # reversing the string\n",
    "        if x < 0:\n",
    "            s = s[:0:-1]\n",
    "            s = '-' + s\n",
    "        elif x > 0:\n",
    "            s = s[::-1]\n",
    "        else:\n",
    "            return 0\n",
    "\n",
    "        # checking the boundries:\n",
    "        if  int(s) > 2**31 - 1 or int(s) < -2**31:\n",
    "            return 0\n",
    "        return s"
   ]
  }
 ],
 "metadata": {
  "kernelspec": {
   "display_name": "Python 3 (ipykernel)",
   "language": "python",
   "name": "python3"
  },
  "language_info": {
   "codemirror_mode": {
    "name": "ipython",
    "version": 3
   },
   "file_extension": ".py",
   "mimetype": "text/x-python",
   "name": "python",
   "nbconvert_exporter": "python",
   "pygments_lexer": "ipython3",
   "version": "3.9.12"
  }
 },
 "nbformat": 4,
 "nbformat_minor": 5
}
