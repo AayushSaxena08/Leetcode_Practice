{
 "cells": [
  {
   "cell_type": "markdown",
   "id": "bfea58f1",
   "metadata": {},
   "source": [
    "### Problem Statement\n",
    "\n",
    "There are n kids with candies. You are given an integer array candies, where each candies[i] represents the number of candies the $i^{th}$ kid has, and an integer extraCandies, denoting the number of extra candies that you have.\n",
    "\n",
    "Return a boolean array result of length n, where **result[ i ] is true** if, after giving the $i^{th}$ kid all the extraCandies, they will have the greatest number of candies among all the kids, or **false** otherwise.\n",
    "\n",
    "Note that multiple kids can have the greatest number of candies."
   ]
  },
  {
   "cell_type": "code",
   "execution_count": 1,
   "id": "6c72857e",
   "metadata": {},
   "outputs": [],
   "source": [
    "from typing import List"
   ]
  },
  {
   "cell_type": "code",
   "execution_count": 2,
   "id": "251582c4",
   "metadata": {},
   "outputs": [],
   "source": [
    "class Solution:\n",
    "    def kidsWithCandies(self, candies: List[int], extraCandies: int) -> List[bool]:\n",
    "        greatest = max(candies)\n",
    "        return [True if i+extraCandies >= greatest else False for i in candies]"
   ]
  },
  {
   "cell_type": "code",
   "execution_count": 3,
   "id": "babb234b",
   "metadata": {},
   "outputs": [
    {
     "data": {
      "text/plain": [
       "[True, True, True, False, True]"
      ]
     },
     "execution_count": 3,
     "metadata": {},
     "output_type": "execute_result"
    }
   ],
   "source": [
    "obj = Solution()\n",
    "obj.kidsWithCandies(candies=[2,3,5,1,3],extraCandies=3)"
   ]
  }
 ],
 "metadata": {
  "kernelspec": {
   "display_name": "Python 3 (ipykernel)",
   "language": "python",
   "name": "python3"
  },
  "language_info": {
   "codemirror_mode": {
    "name": "ipython",
    "version": 3
   },
   "file_extension": ".py",
   "mimetype": "text/x-python",
   "name": "python",
   "nbconvert_exporter": "python",
   "pygments_lexer": "ipython3",
   "version": "3.9.12"
  }
 },
 "nbformat": 4,
 "nbformat_minor": 5
}
